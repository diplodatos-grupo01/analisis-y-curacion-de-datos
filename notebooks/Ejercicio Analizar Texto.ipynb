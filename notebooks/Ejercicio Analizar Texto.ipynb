{
 "cells": [
  {
   "cell_type": "code",
   "execution_count": 24,
   "metadata": {},
   "outputs": [],
   "source": [
    "# pip install textacy\n",
    "import textacy\n",
    "import spacy\n",
    "import es_core_news_sm # python -m spacy download es   (no anda con internet feo)\n",
    "nlp = es_core_news_sm.load(disable=['parser']) # parser is for POS"
   ]
  },
  {
   "cell_type": "code",
   "execution_count": 20,
   "metadata": {},
   "outputs": [],
   "source": [
    "path = '../input/historia-de-indias-1.txt'\n",
    "file = open(path, 'r')\n",
    "raw_text = file.read()"
   ]
  },
  {
   "cell_type": "code",
   "execution_count": null,
   "metadata": {},
   "outputs": [],
   "source": [
    "\n",
    "#doc = textacy.Doc(raw_text)\n",
    "# raw_txt = textacy.io.read_text('../input/historia-de-indias-1.txt', lines=True)\n",
    "# for i in raw_text:\n",
    "#     print(i)\n",
    "#nlp = nlp(raw_text)\n",
    "\n",
    "textacy.Corpus('es', texts=raw_text)"
   ]
  },
  {
   "cell_type": "code",
   "execution_count": 19,
   "metadata": {},
   "outputs": [],
   "source": [
    "read_text?"
   ]
  },
  {
   "cell_type": "code",
   "execution_count": 9,
   "metadata": {},
   "outputs": [],
   "source": [
    "file.close()"
   ]
  }
 ],
 "metadata": {
  "kernelspec": {
   "display_name": "Python [conda env:diplodatos-ayv]",
   "language": "python",
   "name": "conda-env-diplodatos-ayv-py"
  },
  "language_info": {
   "codemirror_mode": {
    "name": "ipython",
    "version": 3
   },
   "file_extension": ".py",
   "mimetype": "text/x-python",
   "name": "python",
   "nbconvert_exporter": "python",
   "pygments_lexer": "ipython3",
   "version": "3.5.5"
  }
 },
 "nbformat": 4,
 "nbformat_minor": 2
}
